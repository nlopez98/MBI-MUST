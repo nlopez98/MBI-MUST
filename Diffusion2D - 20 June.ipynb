{
 "cells": [
  {
   "cell_type": "code",
   "execution_count": 1,
   "metadata": {},
   "outputs": [],
   "source": [
    "#%% Import libraries\n",
    "from PIL import Image\n",
    "import numpy as np\n",
    "import matplotlib.pyplot as plt\n",
    "import time"
   ]
  },
  {
   "cell_type": "code",
   "execution_count": 2,
   "metadata": {},
   "outputs": [],
   "source": [
    "## Deterministic solution\n",
    "def sdd(x, D, m, j):\n",
    "    return j / np.sqrt(D * m) * np.exp(-x / np.sqrt(D / m))"
   ]
  },
  {
   "cell_type": "code",
   "execution_count": 3,
   "metadata": {},
   "outputs": [],
   "source": [
    "#%% Define Parameters\n",
    "    \n",
    "## Simulation parameters\n",
    "Lx      = 500                   # length of system (500 um)\n",
    "dx      = 1.00                  # camera pixel size (1 um)\n",
    "nx      = round(Lx/dx)          # number of positions (pixels)\n",
    "xx      = np.arange(nx+1)*dx    # x bin edges\n",
    "\n",
    "Ly      = 500                   # length of system (500 um)\n",
    "dy      = 1.00                  # camera pixel size (1 um)\n",
    "ny      = round(Ly/dy)          # number of positions (pixels)\n",
    "yy      = np.arange(ny+1)*dy    # y bin edges\n",
    "\n",
    "## Dynamic parameters\n",
    "D               = 10          # diffusion constant\n",
    "Decay_Time      = 35         # decay time in minutes\n",
    "mu              = (Decay_Time*60) ** (-1)  # disassociation rate\n",
    "J               = 0.003            # Insertion rate (0.0015 tops at 660)\n",
    "\n",
    "## Probabilities and derived parameters\n",
    "dt      = dx**2/(D*2*2)         # assumes dy = dx\n",
    "p_J     = J * dt  #number of source position\n",
    "p_mu    = mu * dt\n",
    "k_on = 0.6\n",
    "k_off = 0.5\n"
   ]
  },
  {
   "cell_type": "code",
   "execution_count": 4,
   "metadata": {},
   "outputs": [],
   "source": [
    "## Time Variables\n",
    "\n",
    "Ttotal  = 1*60*60               # time in seconds\n",
    "nt      = round(Ttotal/dt)+1\n",
    "dtsave  = 6*60              # save every \"10 mins\"\n",
    "dsave   = round(dtsave/dt)      \n",
    "nsave   = round(Ttotal/dtsave)+1"
   ]
  },
  {
   "cell_type": "code",
   "execution_count": 5,
   "metadata": {},
   "outputs": [
    {
     "data": {
      "text/plain": [
       "(0, 2)"
      ]
     },
     "execution_count": 5,
     "metadata": {},
     "output_type": "execute_result"
    }
   ],
   "source": [
    "#%% Run simulation for SDD model\n",
    "distrib = np.empty((0,2)) #A matrix with 2 cols and 0 rows\n",
    "density = np.zeros((nx,nsave)) #A 2-tuple that has info on pixels on y (horizontal)//\n",
    "# x (vertical) and number of saves\n",
    "#create another adt \n",
    "\n"
   ]
  },
  {
   "cell_type": "code",
   "execution_count": 6,
   "metadata": {},
   "outputs": [
    {
     "name": "stdout",
     "output_type": "stream",
     "text": [
      "At time step 14400 out of 144000 with 482  particles\n",
      "At time step 28800 out of 144000 with 906  particles\n",
      "At time step 43200 out of 144000 with 1227  particles\n",
      "At time step 57600 out of 144000 with 1528  particles\n",
      "At time step 72000 out of 144000 with 1776  particles\n",
      "At time step 86400 out of 144000 with 1979  particles\n",
      "At time step 100800 out of 144000 with 2131  particles\n",
      "At time step 115200 out of 144000 with 2301  particles\n",
      "At time step 129600 out of 144000 with 2447  particles\n",
      "At time step 144000 out of 144000 with 2520  particles\n"
     ]
    }
   ],
   "source": [
    "## Particle Movement (Diffusion)\n",
    "start = time.time() #number of particles\n",
    "moveTable = np.array([[-1,0], [1,0], [0,1], [0,-1]]) #Left,Right,Up,Down\n",
    "count = 0\n",
    "c = 0\n",
    "for count in range (1,nt): #change to 1,nt later\n",
    "    move = np.zeros((0,2))\n",
    "    add = np.random.poisson(p_J*Ly) #number of new particles\n",
    "    new = np.zeros((add,2)) #A matrix with 2 cols and number of new particles as rows\n",
    "    for ii in new:\n",
    "        ii[1] = ii[1] + int(np.random.uniform(0,Ly))\n",
    "    distrib = np.append(distrib, new, axis=0)\n",
    "    movePart = np.random.choice([0,1,2,3], size=len(distrib))\n",
    "    numPart = len(distrib)\n",
    "    move = np.concatenate((move,moveTable[movePart]),)\n",
    "    distrib = distrib + move #temp fix for boundaries\n",
    "    distrib = np.abs(distrib)\n",
    "    distrib[:,0] = np.where(distrib[:,0] > Lx,Lx - np.abs(distrib[:,0] - Lx), distrib[:,0])\n",
    "    distrib[:,1] = np.where(distrib[:,1] > Ly,np.abs(distrib[:,0] - Ly), distrib[:,1])\n",
    "    if numPart > 0:\n",
    "        meanDecay = p_mu* numPart\n",
    "        dead = np.random.poisson(meanDecay)\n",
    "        kill = np.random.choice(numPart, dead, replace=False)\n",
    "        distrib = np.delete(distrib,kill,0)\n",
    "    if count%dsave == 0:\n",
    "        ind = round(count/dsave) #change later\n",
    "        distribX = np.array([])\n",
    "        for i in distrib:\n",
    "            press = np.array([i[0]])\n",
    "            distribX = np.concatenate ((distribX, press),)\n",
    "        out, bins = np.histogram(distribX, xx)\n",
    "        density[:,ind] = out /Ly\n",
    "        a = len(distrib)\n",
    "        print(f'At time step {count} out of {nt-1} with {len(distrib)}  particles')\n",
    "        if count >= 0.9*nt:\n",
    "            if (count % 1000) == 0:\n",
    "                distribN = np.array([])\n",
    "                for i in distrib:\n",
    "                    press = np.array([i[0]])\n",
    "                    distribN = np.concatenate ((distribN, press),)\n",
    "                if c == 0:\n",
    "                \n",
    "                    out, bins = np.histogram(distribN, xx)\n",
    "                    out = out/Ly\n",
    "                    denseNew = np.reshape(out, (500, 1))\n",
    "                    denseOut = denseNew\n",
    "                    c += 1\n",
    "                else:\n",
    "                    out, bins = np.histogram(distribN, xx)\n",
    "                    out = out/ Ly\n",
    "                    denseNew = np.reshape(out, (500, 1))\n",
    "                    denseOut = np.append(denseOut, denseNew, axis = 1)\n",
    "        #np.savetxt(str(ind)+'distrib.csv', distrib, fmt='%i', delimiter=\",\") #seems to work, next try to label x and y\n",
    "        img = np.zeros((Ly+1,Lx+1))\n",
    "        for coord in distrib:\n",
    "            img[int(coord[1]) , int(coord[0])] = 1\n",
    "        im = Image.fromarray(img)\n",
    "        #im.save(str(ind)+'.tif')\n",
    "#anecdote: blunders made include not vectorizing (97% faster) and nested if else's (94% faster without)\n",
    "elapsed = time.time() - start\n"
   ]
  },
  {
   "cell_type": "code",
   "execution_count": 7,
   "metadata": {
    "scrolled": true
   },
   "outputs": [
    {
     "data": {
      "text/plain": [
       "0.0004761904761904762"
      ]
     },
     "execution_count": 7,
     "metadata": {},
     "output_type": "execute_result"
    }
   ],
   "source": []
  },
  {
   "cell_type": "code",
   "execution_count": 8,
   "metadata": {},
   "outputs": [
    {
     "data": {
      "image/png": "[encoded data removed]",
      "text/plain": [
       "<Figure size 432x288 with 1 Axes>"
      ]
     },
     "metadata": {
      "needs_background": "light"
     },
     "output_type": "display_data"
    }
   ],
   "source": [
    "anly = sdd(xx, D, mu, J)\n",
    "color=iter(plt.cm.jet(np.linspace(0,1,nsave)))   \n",
    "for jj in range(nsave):\n",
    "    c=next(color)\n",
    "    plt.plot(np.arange(nx), density[:, jj], \n",
    "        'o', color=c, markersize=1, \n",
    "         label='t = ' + str(round(jj*1/2,1)) + 'h')   \n",
    "plt.plot(xx,anly, color=[0 ,0 ,0])\n",
    "plt.legend()\n",
    "plt.title('2D Stochastic Synthesis-Diffusion-Decay Simulation')\n",
    "plt.ylabel('X density/cell')\n",
    "plt.xlabel('X position ($\\mu$m)')\n",
    "xi = np.arange(0,501,step = 100)\n",
    "plt.xticks(xi,xi);\n",
    "plt.savefig('2dsdd.png')"
   ]
  },
 
  {
   "cell_type": "code",
   "execution_count": 9,
   "metadata": {
    "scrolled": true
   },
   "outputs": [
    {
     "data": {
      "image/png": "[encoded data removed]",
      "text/plain": [
       "<Figure size 432x288 with 1 Axes>"
      ]
     },
     "metadata": {
      "needs_background": "light"
     },
     "output_type": "display_data"
    }
   ],
   "source": [
    "%matplotlib inline \n",
    "from matplotlib import pyplot as plt\n",
    "plt.imshow(img, interpolation='nearest')\n",
    "plt.show()\n",
    "#plt.imsave('test.png', img)"
   ]
  },
  {
   "cell_type": "code",
   "execution_count": 10,
   "metadata": {
    "scrolled": true
   },
   "outputs": [],
   "source": [
    "#File_data = np.loadtxt(\"test.txt\", dtype=int)\n",
    "#print(File_data) load in txt tile"
   ]
  },
  {
   "cell_type": "code",
   "execution_count": 11,
   "metadata": {},
   "outputs": [],
   "source": [
    "#im = Image.fromarray(img)\n",
    "#im.save('run1.tif')\n",
    "#from PIL import Image\n",
    "#im1 = np.asarray(Image.open(\"run1.tif\"))\n",
    "#(im1 == img).all() #verify same"
   ]
  },
  {
   "cell_type": "markdown",
   "metadata": {},
   "source": [
    "#### Test Codes\n",
    "-----------------------------"
   ]
  },
  {
   "cell_type": "code",
   "execution_count": 12,
   "metadata": {},
   "outputs": [
    {
     "name": "stdout",
     "output_type": "stream",
     "text": [
      "Object ` plt.hist()` not found.\n"
     ]
    }
   ],
   "source": []
  },
  {
   "cell_type": "code",
   "execution_count": 13,
   "metadata": {},
   "outputs": [
    {
     "data": {
      "text/plain": [
       "[<matplotlib.lines.Line2D at 0x1c7207ecaf0>,\n",
       " <matplotlib.lines.Line2D at 0x1c7207ecd30>]"
      ]
     },
     "execution_count": 13,
     "metadata": {},
     "output_type": "execute_result"
    },
    {
     "data": {
      "image/png": "[encoded data removed]",
      "text/plain": [
       "<Figure size 432x288 with 1 Axes>"
      ]
     },
     "metadata": {
      "needs_background": "light"
     },
     "output_type": "display_data"
    }
   ],
   "source": [
    "plt.plot(np.arange(nx), np.mean(denseOut, axis=1), 'ro')\n",
    "plt.plot(xx, sdd(xx, D, mu, J), 'k-', 'LineWidth', 0.3)"
   ]
  },
  {
   "cell_type": "code",
   "execution_count": 14,
   "metadata": {},
   "outputs": [
    {
     "name": "stderr",
     "output_type": "stream",
     "text": [
      "<ipython-input-14-f06a3b5dd9ba>:3: RuntimeWarning: overflow encountered in exp\n",
      "  return a * np.exp(b * -x)\n"
     ]
    },
    {
     "data": {
      "text/plain": [
       "8.732687179651535"
      ]
     },
     "execution_count": 14,
     "metadata": {},
     "output_type": "execute_result"
    }
   ],
   "source": [
    "from scipy.optimize import curve_fit\n",
    "def expFn(x, a, b):\n",
    "    return a * np.exp(b * -x)\n",
    "\n",
    "# We see only the latter half of the data\n",
    "ydata = np.mean(denseOut, axis=1)[26:]\n",
    "xdata = np.arange(0,474)\n",
    "\n",
    "popt, pcov = curve_fit(expFn, xdata, ydata)\n",
    "D_pred = mu/popt[1]**2\n",
    "D_pred"
   ]
  },
  {
   "cell_type": "code",
   "execution_count": null,
   "metadata": {
    "scrolled": true
   },
   "outputs": [],
   "source": []
  },
  {
   "cell_type": "code",
   "execution_count": 15,
   "metadata": {},
   "outputs": [
    {
     "data": {
      "text/plain": [
       "array([[187.,  56.],\n",
       "       [101.,  98.],\n",
       "       [137., 258.],\n",
       "       ...,\n",
       "       [  5., 215.],\n",
       "       [  5., 338.],\n",
       "       [  3., 380.]])"
      ]
     },
     "execution_count": 15,
     "metadata": {},
     "output_type": "execute_result"
    }
   ],
   "source": []
  },
  {
   "cell_type": "code",
   "execution_count": 16,
   "metadata": {},
   "outputs": [
    {
     "data": {
      "text/plain": [
       "array([[187.,  56.],\n",
       "       [101.,  98.],\n",
       "       [137., 258.],\n",
       "       ...,\n",
       "       [  5., 215.],\n",
       "       [  5., 338.],\n",
       "       [  3., 380.]])"
      ]
     },
     "execution_count": 16,
     "metadata": {},
     "output_type": "execute_result"
    }
   ],
   "source": []
  },
  {
   "cell_type": "code",
   "execution_count": null,
   "metadata": {},
   "outputs": [],
   "source": []
  },
  {
   "cell_type": "code",
   "execution_count": null,
   "metadata": {},
   "outputs": [],
   "source": []
  },
  {
   "cell_type": "code",
   "execution_count": null,
   "metadata": {},
   "outputs": [],
   "source": []
  }
 ],
 "metadata": {
  "kernelspec": {
   "display_name": "Python 3",
   "language": "python",
   "name": "python3"
  },
  "language_info": {
   "codemirror_mode": {
    "name": "ipython",
    "version": 3
   },
   "file_extension": ".py",
   "mimetype": "text/x-python",
   "name": "python",
   "nbconvert_exporter": "python",
   "pygments_lexer": "ipython3",
   "version": "3.8.8"
  }
 },
 "nbformat": 4,
 "nbformat_minor": 2
}

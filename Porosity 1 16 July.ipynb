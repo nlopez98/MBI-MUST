{
 "cells": [
  {
   "cell_type": "code",
   "execution_count": 1,
   "metadata": {},
   "outputs": [],
   "source": [
    "#%% Import libraries\n",
    "from PIL import Image\n",
    "import numpy as np\n",
    "import matplotlib.pyplot as plt\n",
    "import time\n",
    "import pandas"
   ]
  },
  {
   "cell_type": "code",
   "execution_count": 2,
   "metadata": {},
   "outputs": [],
   "source": [
    "## Deterministic solution\n",
    "def sdd(x, D, m, j):\n",
    "    return j / np.sqrt(D * m) * np.exp(-x / np.sqrt(D / m))"
   ]
  },
  {
   "cell_type": "code",
   "execution_count": 3,
   "metadata": {
    "scrolled": true
   },
   "outputs": [],
   "source": [
    "from skimage import io\n",
    "import matplotlib.pyplot as plt\n",
    "\n",
    "# read the image stack\n",
    "img = io.imread('Hex_Porosity_1.00.tif')\n",
    "image = io.imread('2D Edge (1).tif')\n"
   ]
  },
  {
   "cell_type": "code",
   "execution_count": null,
   "metadata": {},
   "outputs": [],
   "source": []
  },
  {
   "cell_type": "code",
   "execution_count": null,
   "metadata": {},
   "outputs": [],
   "source": []
  },
  {
   "cell_type": "code",
   "execution_count": 4,
   "metadata": {},
   "outputs": [
    {
     "data": {
      "text/plain": [
       "<matplotlib.image.AxesImage at 0x1a3f1a03520>"
      ]
     },
     "execution_count": 4,
     "metadata": {},
     "output_type": "execute_result"
    },
    {
     "data": {
      "image/png": "[encoded data removed]",
      "text/plain": [
       "<Figure size 432x288 with 1 Axes>"
      ]
     },
     "metadata": {
      "needs_background": "light"
     },
     "output_type": "display_data"
    }
   ],
   "source": [
    "plt.imshow(img)"
   ]
  },
  {
   "cell_type": "code",
   "execution_count": 5,
   "metadata": {},
   "outputs": [
    {
     "data": {
      "text/plain": [
       "array([[ 6,  8,  8, ...,  8,  8,  7],\n",
       "       [14, 16, 16, ..., 16, 16, 15],\n",
       "       [14, 16, 16, ..., 16, 16, 15],\n",
       "       ...,\n",
       "       [14, 16, 16, ..., 16, 16, 15],\n",
       "       [14, 16, 16, ..., 16, 16, 15],\n",
       "       [10, 12, 12, ..., 12, 12, 11]], dtype=uint8)"
      ]
     },
     "execution_count": 5,
     "metadata": {},
     "output_type": "execute_result"
    }
   ],
   "source": [
    "boundaryClass = np.array(img)\n",
    "\n",
    "#boundaryClass = np.transpose(boundaryClass)\n",
    "boundaryClass\n",
    "\n",
    "#if a particle is at [y][x] then it will have the said boundary conditions\n",
    "#eg [1][0] will have the boundary condition 8 (cannot move up)\n"
   ]
  },
  {
   "cell_type": "code",
   "execution_count": 6,
   "metadata": {
    "scrolled": true
   },
   "outputs": [
    {
     "data": {
      "text/plain": [
       "<matplotlib.image.AxesImage at 0x1a3f1af1df0>"
      ]
     },
     "execution_count": 6,
     "metadata": {},
     "output_type": "execute_result"
    },
    {
     "data": {
      "image/png": "[encoded data removed]",
      "text/plain": [
       "<Figure size 432x288 with 1 Axes>"
      ]
     },
     "metadata": {
      "needs_background": "light"
     },
     "output_type": "display_data"
    }
   ],
   "source": [
    "plt.imshow(image)"
   ]
  },
  {
   "cell_type": "code",
   "execution_count": null,
   "metadata": {},
   "outputs": [],
   "source": []
  },
  {
   "cell_type": "code",
   "execution_count": null,
   "metadata": {},
   "outputs": [],
   "source": []
  },
  {
   "cell_type": "code",
   "execution_count": null,
   "metadata": {
    "scrolled": true
   },
   "outputs": [],
   "source": []
  },
  {
   "cell_type": "code",
   "execution_count": null,
   "metadata": {},
   "outputs": [],
   "source": []
  },
  {
   "cell_type": "code",
   "execution_count": null,
   "metadata": {},
   "outputs": [],
   "source": []
  },
  {
   "cell_type": "code",
   "execution_count": 7,
   "metadata": {},
   "outputs": [],
   "source": [
    "def pixelClass(ii):\n",
    "    x, y = int(ii[0]), int(ii[1]) #don't transpose\n",
    "    return boundaryClass[y][x]  #1 indexed\n",
    "\n",
    "    #ok.\n"
   ]
  },
  {
   "cell_type": "code",
   "execution_count": 8,
   "metadata": {},
   "outputs": [],
   "source": [
    "#x = []\n",
    "#for i in sourceCoords:\n",
    " #   x.append(pixelClass(i))\n",
    "#x"
   ]
  },
  {
   "cell_type": "code",
   "execution_count": 9,
   "metadata": {
    "scrolled": false
   },
   "outputs": [],
   "source": [
    "lookUpTable = pandas.read_csv('lookUpTable.csv')\n",
    "lookUpTable = lookUpTable.values #removes the headers\n",
    "\n",
    "#ok.\n"
   ]
  },
  {
   "cell_type": "code",
   "execution_count": 10,
   "metadata": {},
   "outputs": [
    {
     "data": {
      "text/plain": [
       "array([['Hex_Porosity_0.13', 200, 200, ..., 16, 16, 16],\n",
       "       ['Hex_Porosity_0.23', 200, 200, ..., 24, 24, 32],\n",
       "       ['Hex_Porosity_0.34', 200, 200, ..., 40, 40, 56],\n",
       "       ...,\n",
       "       ['Hex_Porosity_0.87', 200, 200, ..., 200, 200, 200],\n",
       "       ['Hex_Porosity_0.97', 200, 200, ..., 200, 200, 200],\n",
       "       ['Hex_Porosity_1.00', 200, 200, ..., 200, 200, 200]], dtype=object)"
      ]
     },
     "execution_count": 10,
     "metadata": {},
     "output_type": "execute_result"
    }
   ],
   "source": [
    "areaPerColumn = pandas.read_csv('VoidAreaPerColumn.csv')\n",
    "areaPerColumn = areaPerColumn.values\n",
    "areaPerColumn"
   ]
  },
  {
   "cell_type": "code",
   "execution_count": 11,
   "metadata": {},
   "outputs": [],
   "source": [
    "sourceClass = np.array(image)\n",
    "rows, cols = np.where(sourceClass == 255) #convert to 2d array\n",
    "sourceCoords = np.empty((0,2))\n",
    "i,j = 0,0\n",
    "while i < len(rows)-1:\n",
    "    sourceCoords = np.append(sourceCoords, np.array([[cols[i], rows[j]]]), axis = 0)\n",
    "    i += 1\n",
    "    j += 1\n",
    "numSource = len(sourceCoords)\n"
   ]
  },
  {
   "cell_type": "code",
   "execution_count": 12,
   "metadata": {},
   "outputs": [
    {
     "data": {
      "text/plain": [
       "200"
      ]
     },
     "execution_count": 12,
     "metadata": {},
     "output_type": "execute_result"
    }
   ],
   "source": [
    "dimImage = image.shape\n",
    "Lx = dimImage[1] -1\n",
    "Ly = dimImage[0] -1\n",
    "Lx"
   ]
  },
  {
   "cell_type": "code",
   "execution_count": null,
   "metadata": {},
   "outputs": [],
   "source": []
  },
  {
   "cell_type": "code",
   "execution_count": null,
   "metadata": {},
   "outputs": [],
   "source": [
    "\n"
   ]
  },
  {
   "cell_type": "code",
   "execution_count": 13,
   "metadata": {},
   "outputs": [],
   "source": [
    "#%% Define Parameters\n",
    "    \n",
    "## Simulation parameters\n",
    "#Lx      = 500                   # length of system (500 um)\n",
    "dx      = 1.00                  # camera pixel size (1 um)\n",
    "nx      = round(Lx/dx)          # number of positions (pixels)\n",
    "xx      = np.arange(nx+1)*dx    # x bin edges\n",
    "\n",
    "#Ly      = 500                   # length of system (500 um)\n",
    "dy      = 1.00                  # camera pixel size (1 um)\n",
    "ny      = round(Ly/dy)          # number of positions (pixels)\n",
    "yy      = np.arange(ny+1)*dy    # y bin edge"
   ]
  },
  {
   "cell_type": "code",
   "execution_count": 14,
   "metadata": {},
   "outputs": [],
   "source": [
    "## Dynamic parameters\n",
    "D               = 3          # diffusion constant\n",
    "Decay_Time      = 30         # decay time in minutes\n",
    "mu              = (Decay_Time*60) ** (-1)  # disassociation rate\n",
    "J               = 0.0025            # Insertion rate (0.0015 tops at 660)\n",
    "\n",
    "## Probabilities and derived parameters\n",
    "dt      = dx**2/(D*2*2)         # assumes dy = dx\n",
    "p_J     = J * dt  #number of source position\n",
    "p_mu    = mu * dt\n",
    "\n",
    "## Time Variables\n",
    "\n",
    "Ttotal  = 2*60*60              # time in seconds\n",
    "nt      = round(Ttotal/dt)+1\n",
    "dtsave  = 60*12              # save every \"10 mins\"\n",
    "dsave   = round(dtsave/dt)      \n",
    "nsave   = round(Ttotal/dtsave)+1"
   ]
  },
  {
   "cell_type": "code",
   "execution_count": null,
   "metadata": {},
   "outputs": [],
   "source": []
  },
  {
   "cell_type": "code",
   "execution_count": null,
   "metadata": {},
   "outputs": [],
   "source": []
  },
  {
   "cell_type": "code",
   "execution_count": 15,
   "metadata": {
    "scrolled": false
   },
   "outputs": [
    {
     "name": "stdout",
     "output_type": "stream",
     "text": [
      "At time step 8640 out of 86400 with 288  particles\n",
      "At time step 17280 out of 86400 with 484  particles\n",
      "At time step 25920 out of 86400 with 594  particles\n",
      "At time step 34560 out of 86400 with 710  particles\n",
      "At time step 43200 out of 86400 with 760  particles\n",
      "At time step 51840 out of 86400 with 819  particles\n",
      "At time step 60480 out of 86400 with 817  particles\n",
      "At time step 69120 out of 86400 with 865  particles\n",
      "At time step 77760 out of 86400 with 871  particles\n",
      "At time step 86400 out of 86400 with 888  particles\n"
     ]
    }
   ],
   "source": [
    "start = time.time()\n",
    "distribFree = np.empty((0,2))\n",
    "distribBound = np.empty((0,2))\n",
    "density = np.zeros((nx,nsave))\n",
    "birthRate = J*numSource*dt\n",
    "\n",
    "moveDict = {'l':[-1,0],'r':[1,0], 'u':[0,-1],'d':[0,1]}\n",
    "count = 0\n",
    "c = 0\n",
    "prev,current = 0,0\n",
    "for count in range (1,nt):\n",
    "    ##image source code##\n",
    "    instBirth = np.random.poisson(birthRate) #random select number born at current time, replaces add\n",
    "    for ii in range(1, instBirth +1):\n",
    "        instSource = np.random.choice(numSource) #random select source position, replaces new\n",
    "        new = [sourceCoords[instSource]]\n",
    "        distribFree = np.append(distribFree, np.array(new), axis=0)#change shape of sourcePos[instSource]\n",
    "    pixelClasses = np.empty(0, dtype=int)\n",
    "    ##obstacle code##\n",
    "    x = []\n",
    "    for ii in distribFree: \n",
    "        x.append(pixelClass(ii)) #we have some 32's but will throw them away    \n",
    "    for jj in range(1,17):\n",
    "        x = np.array(x)\n",
    "        indexPart = np.where(x == jj)[0] #returns the index in distrib where the particles have said class\n",
    "        numInClass = len(indexPart)\n",
    "        numFree = lookUpTable[jj-1][-1] #adjusts the index to the correct one\n",
    "        randMove = np.random.uniform(low = 1, high = numFree+1, size = numInClass) # shape = len(idxP[0]),\n",
    "        randMove = randMove.astype(int)\n",
    "        blank = []\n",
    "        if numFree> 0:\n",
    "            moveDir = lookUpTable[jj-1][randMove] #returns a string (lrud), same shape as randMove\n",
    "            for i in moveDir:\n",
    "                blank.append(moveDict[i]) #shape = len(idxP[0]), 2\n",
    "        blank = np.array(blank).reshape(-1,2).astype(int)\n",
    "        distribFree[indexPart] = distribFree[indexPart] + blank\n",
    "    numPartFree = len(distribFree) \n",
    "    ##binding/unbinding code##\n",
    "    #partBound = np.empty((0,2), dtype= int)\n",
    "    #numBind = np.random.poisson(p_bind)\n",
    "    #numUnbind = np.random.poisson(p_unbind)\n",
    "    #if numPartFree > 0:\n",
    "     #   idxDict = {}\n",
    "#        pbCount = 0\n",
    " #       for i in range(distribFree.shape[0]): \n",
    "  #          if (distribFree[i]== recepCoords).all(axis = 1).any(): #if the whole element matches\n",
    "   #             partBound = np.append(partBound, np.array([distribFree[i]]), axis = 0)\n",
    "    #            idxDict[pbCount] = i\n",
    "     #           pbCount += 1\n",
    "      #  if numBind < partBound.shape[0]:\n",
    "       #     idxDel = []\n",
    "        #    idxBind = np.random.choice(partBound.shape[0], numBind, replace = False)\n",
    "         #   toBind = partBound[idxBind]\n",
    "          #  for i in idxBind:\n",
    "           #     k = idxDict[i]\n",
    "  #              idxDel.append(k)\n",
    "   #         distribFree = np.delete(distribFree, idxDel, axis = 0)\n",
    "    #        distribBound = np.append(distribBound, toBind, axis = 0)\n",
    "   # if numUnbind < distribBound.shape[0]:\n",
    "    #    idxUnbind = np.random.choice(distribBound.shape[0], numUnbind, replace = False)\n",
    "       # toUnbind = distribBound[idxUnbind]\n",
    "      #  distribBound = np.delete(distribBound, idxUnbind, axis = 0)\n",
    "     #   distribFree = np.append(distribFree, toUnbind, axis =0)\n",
    "        #distribFree = np.array(distribFree).reshape(-1,2)\n",
    "    ##kill code##\n",
    "    numPartFree = len(distribFree)\n",
    "    if numPartFree > 0:\n",
    "        meanDecay = p_mu* numPartFree\n",
    "        dead = np.random.poisson(meanDecay)\n",
    "        kill = np.random.choice(numPartFree, dead, replace=False)\n",
    "        distribFree = np.delete(distribFree,kill,0)\n",
    "    if count%dsave == 0:\n",
    "        ind = round(count/dsave) #change later\n",
    "        print(f'At time step {count} out of {nt-1} with {len(distribFree) + len(distribBound)}  particles')\n",
    "        #print(f'There are {len(distribBound)} bound and {len(distribFree)} free, with {len(partBound)} at receptors')\n",
    "        #print(f'The {len(partBound)},{numBind} and {numUnbind} ')\n",
    "        prev = current\n",
    "        current = len(distribFree) + len(distribBound)\n",
    "        #print(f'The previous is {prev} and current is {current}')\n",
    "        #np.savetxt(str(ind)+'distribFree.csv', distribFree, fmt='%i', delimiter=\",\") #keep the data\n",
    "        #np.savetxt(str(ind)+ 'distribBound.csv', distribBound, fmt ='%i', delimiter = \",\") #keep the data\n",
    "        img = np.zeros((Ly+1,Lx+1))\n",
    "        for coord in distribFree:\n",
    "            img[int(coord[1]) , int(coord[0])] +=1\n",
    "        for coord in distribBound:\n",
    "            img[int(coord[1]) , int(coord[0])] +=1\n",
    "        im = Image.fromarray(img)\n",
    "        #im.save(str(ind)+'.tif')\n",
    "        ind = round(count/dsave) #change later\n",
    "        distribX = np.array([])\n",
    "        for i in distribFree:\n",
    "            press = np.array([i[0]])\n",
    "            distribX = np.concatenate ((distribX, press),)\n",
    "        #for i in distribBound: \n",
    "         #   press = np.array([i[0]])\n",
    "          #  distribX = np.concatenate ((distribX, press),)\n",
    "        out, bins = np.histogram(distribX, xx)\n",
    "        #density[:,ind] = out / areaPerColumn[3][1:]\n",
    "        if count >= 0.9*nt:\n",
    "            if (count % 960) == 0:\n",
    "                distribN = np.array([])\n",
    "                for i in distribFree:\n",
    "                    squeeze = np.array([i[0]])\n",
    "                    distribN = np.concatenate ((distribN, squeeze),)\n",
    "           #     for i in distribBound: \n",
    "            #        squeeze = np.array([i[0]])\n",
    "             #       distribN = np.concatenate ((distribN, squeeze),)\n",
    "                if c == 0:\n",
    "                    \n",
    "                    out, bins = np.histogram(distribN, xx)\n",
    "                    out = out / areaPerColumn[-1][1:]\n",
    "                    denseNew = np.reshape(out, (200, 1))\n",
    "                    denseOut = denseNew\n",
    "                    c += 1\n",
    "                else:\n",
    "              #      for i in distribBound: \n",
    "               #         squeeze = np.array([i[0]])\n",
    "                #    distribN = np.concatenate ((distribN, squeeze),)\n",
    "                    \n",
    "                    out, bins = np.histogram(distribN, xx)\n",
    "                    out = out / areaPerColumn[-1][1:]\n",
    "                    denseNew = np.reshape(out, (200, 1))\n",
    "                    denseOut = np.append(denseOut, denseNew, axis = 1)\n",
    "        #if prev!= 0 and np.abs(current/prev-1) < 0.1:\n",
    "         #   idx = []\n",
    "          #  for i in range(distribFree.shape[0]): \n",
    "           #     if (distribFree[i]== killCoords).all(axis = 1).any(): #if the whole element matches\n",
    "           #         idx.append(i)\n",
    "            #distribFree = np.delete(distribFree, idx, axis = 0)\n",
    "elapsed = time.time() - start"
   ]
  },
  {
   "cell_type": "code",
   "execution_count": null,
   "metadata": {},
   "outputs": [],
   "source": []
  },
  {
   "cell_type": "code",
   "execution_count": 16,
   "metadata": {},
   "outputs": [
    {
     "data": {
      "text/plain": [
       "612.399313211441"
      ]
     },
     "execution_count": 16,
     "metadata": {},
     "output_type": "execute_result"
    }
   ],
   "source": [
    "elapsed = time.time() - start\n",
    "elapsed"
   ]
  },
  {
   "cell_type": "code",
   "execution_count": null,
   "metadata": {},
   "outputs": [],
   "source": []
  },
  {
   "cell_type": "code",
   "execution_count": 17,
   "metadata": {
    "scrolled": true
   },
   "outputs": [],
   "source": [
    "#anly = sdd(xx, D, mu, J)\n",
    "#color=iter(plt.cm.jet(np.linspace(0,1,nsave)))   \n",
    "#for jj in range(nsave):\n",
    " #   c=next(color)\n",
    "  #  plt.plot(np.arange(nx), density[:, jj], \n",
    "   #     'o', color=c, markersize=1, \n",
    "    #     label='t = ' + str(round(jj*1/2,1)) + 'h')   \n",
    "#plt.plot(xx,anly, color=[0 ,0 ,0])\n",
    "#plt.legend()\n",
    "#plt.title('2D Stochastic Synthesis-Diffusion-Decay Simulation')\n",
    "#plt.ylabel('X density/cell')\n",
    "#plt.xlabel('X position ($\\mu$m)')\n",
    "#xi = np.arange(0,501,step = 100)\n",
    "#plt.xticks(xi,xi);\n",
    "#plt.savefig('2dsdd.png')"
   ]
  },
  {
   "cell_type": "code",
   "execution_count": 18,
   "metadata": {
    "scrolled": true
   },
   "outputs": [],
   "source": [
    "#File_data = np.loadtxt(\"test.txt\", dtype=int)\n",
    "#print(File_data) load in txt tile"
   ]
  },
  {
   "cell_type": "code",
   "execution_count": 30,
   "metadata": {},
   "outputs": [
    {
     "data": {
      "image/png": "[encoded data removed]",
      "text/plain": [
       "<Figure size 432x288 with 1 Axes>"
      ]
     },
     "metadata": {
      "needs_background": "light"
     },
     "output_type": "display_data"
    },
    {
     "data": {
      "text/plain": [
       "<Figure size 432x288 with 0 Axes>"
      ]
     },
     "metadata": {},
     "output_type": "display_data"
    }
   ],
   "source": [
    "%matplotlib inline \n",
    "from matplotlib import pyplot as plt\n",
    "plt.imshow(img, interpolation='nearest')\n",
    "plt.show()\n"
   ]
  },
  {
   "cell_type": "markdown",
   "metadata": {},
   "source": [
    "#### Test Codes\n",
    "-----------------------------"
   ]
  },
  {
   "cell_type": "code",
   "execution_count": 33,
   "metadata": {},
   "outputs": [
    {
     "data": {
      "image/png": "[encoded data removed]",
      "text/plain": [
       "<Figure size 432x288 with 1 Axes>"
      ]
     },
     "metadata": {
      "needs_background": "light"
     },
     "output_type": "display_data"
    }
   ],
   "source": [
    "plt.plot(np.arange(nx-26), np.mean(denseOut[26:] ,axis=1), 'ro')\n",
    "plt.plot(xx, sdd(xx, D, mu, J), 'k-', 0.1)\n",
    "plt.xlabel('X Coordinate')\n",
    "plt.ylabel('Particle Density')\n",
    "plt.savefig('p1 trend.png')"
   ]
  },
  {
   "cell_type": "code",
   "execution_count": 21,
   "metadata": {},
   "outputs": [
    {
     "data": {
      "text/plain": [
       "array([  0,   1,   2,   3,   4,   5,   6,   7,   8,   9,  10,  11,  12,\n",
       "        13,  14,  15,  16,  17,  18,  19,  20,  21,  22,  23,  24,  25,\n",
       "        26,  27,  28,  29,  30,  31,  32,  33,  34,  35,  36,  37,  38,\n",
       "        39,  40,  41,  42,  43,  44,  45,  46,  47,  48,  49,  50,  51,\n",
       "        52,  53,  54,  55,  56,  57,  58,  59,  60,  61,  62,  63,  64,\n",
       "        65,  66,  67,  68,  69,  70,  71,  72,  73,  74,  75,  76,  77,\n",
       "        78,  79,  80,  81,  82,  83,  84,  85,  86,  87,  88,  89,  90,\n",
       "        91,  92,  93,  94,  95,  96,  97,  98,  99, 100, 101, 102, 103,\n",
       "       104, 105, 106, 107, 108, 109, 110, 111, 112, 113, 114, 115, 116,\n",
       "       117, 118, 119, 120, 121, 122, 123, 124, 125, 126, 127, 128, 129,\n",
       "       130, 131, 132, 133, 134, 135, 136, 137, 138, 139, 140, 141, 142,\n",
       "       143, 144, 145, 146, 147, 148, 149, 150, 151, 152, 153, 154, 155,\n",
       "       156, 157, 158, 159, 160, 161, 162, 163, 164, 165, 166, 167, 168,\n",
       "       169, 170, 171, 172, 173, 174, 175, 176, 177, 178, 179, 180, 181,\n",
       "       182, 183, 184, 185, 186, 187, 188, 189, 190, 191, 192, 193, 194,\n",
       "       195, 196, 197, 198, 199])"
      ]
     },
     "execution_count": 21,
     "metadata": {},
     "output_type": "execute_result"
    }
   ],
   "source": [
    "np.arange(nx)"
   ]
  },
  {
   "cell_type": "code",
   "execution_count": 22,
   "metadata": {},
   "outputs": [
    {
     "data": {
      "text/plain": [
       "array([[ 30., 138.],\n",
       "       [154.,  71.],\n",
       "       [  8., 184.],\n",
       "       ...,\n",
       "       [  1., 163.],\n",
       "       [  4.,  18.],\n",
       "       [  0., 101.]])"
      ]
     },
     "execution_count": 22,
     "metadata": {},
     "output_type": "execute_result"
    }
   ],
   "source": [
    "distribFree"
   ]
  },
  {
   "cell_type": "code",
   "execution_count": null,
   "metadata": {},
   "outputs": [],
   "source": []
  },
  {
   "cell_type": "code",
   "execution_count": 32,
   "metadata": {
    "scrolled": true
   },
   "outputs": [
    {
     "data": {
      "image/png": "[encoded data removed]",
      "text/plain": [
       "<Figure size 432x288 with 1 Axes>"
      ]
     },
     "metadata": {
      "needs_background": "light"
     },
     "output_type": "display_data"
    }
   ],
   "source": [
    "img = np.zeros((Ly+1,Lx+1))\n",
    "for coord in distribFree:\n",
    "    img[int(coord[1]) , int(coord[0])] +=1\n",
    "for coord in distribBound:\n",
    "    img[int(coord[1]) , int(coord[0])] +=1\n",
    "im = Image.fromarray(img)\n",
    "\n",
    "#colors = [(0, 0, 0), (0, 1, 0)] # first color is black, last is red\n",
    "#cm = LinearSegmentedColormap.from_list(\n",
    "    #    \"Custom\", colors, N=50)\n",
    "#plt.imshow(img, cmap=cm)\n",
    "plt.imshow(img, interpolation='nearest')\n",
    "#plt.show()\n",
    "plt.show()\n",
    "im.save('100.tif')"
   ]
  },
  {
   "cell_type": "code",
   "execution_count": null,
   "metadata": {},
   "outputs": [],
   "source": []
  },
  {
   "cell_type": "code",
   "execution_count": 24,
   "metadata": {},
   "outputs": [
    {
     "data": {
      "text/plain": [
       "154.0"
      ]
     },
     "execution_count": 24,
     "metadata": {},
     "output_type": "execute_result"
    }
   ],
   "source": [
    "np.amax(distribFree[1][:])"
   ]
  },
  {
   "cell_type": "code",
   "execution_count": null,
   "metadata": {},
   "outputs": [],
   "source": []
  },
  {
   "cell_type": "code",
   "execution_count": null,
   "metadata": {},
   "outputs": [],
   "source": []
  },
  {
   "cell_type": "code",
   "execution_count": null,
   "metadata": {},
   "outputs": [],
   "source": []
  },
  {
   "cell_type": "code",
   "execution_count": 25,
   "metadata": {},
   "outputs": [
    {
     "data": {
      "text/plain": [
       "(888, 2)"
      ]
     },
     "execution_count": 25,
     "metadata": {},
     "output_type": "execute_result"
    }
   ],
   "source": [
    "distribFree.shape"
   ]
  },
  {
   "cell_type": "code",
   "execution_count": 26,
   "metadata": {},
   "outputs": [
    {
     "data": {
      "text/plain": [
       "array([], shape=(0, 2), dtype=float64)"
      ]
     },
     "execution_count": 26,
     "metadata": {},
     "output_type": "execute_result"
    }
   ],
   "source": [
    "distribBound"
   ]
  },
  {
   "cell_type": "code",
   "execution_count": null,
   "metadata": {},
   "outputs": [],
   "source": []
  },
  {
   "cell_type": "code",
   "execution_count": null,
   "metadata": {},
   "outputs": [],
   "source": []
  },
  {
   "cell_type": "code",
   "execution_count": 27,
   "metadata": {},
   "outputs": [
    {
     "data": {
      "text/plain": [
       "2.0"
      ]
     },
     "execution_count": 27,
     "metadata": {},
     "output_type": "execute_result"
    }
   ],
   "source": [
    "np.amax(img)"
   ]
  },
  {
   "cell_type": "code",
   "execution_count": 28,
   "metadata": {},
   "outputs": [
    {
     "data": {
      "text/plain": [
       "3.0309676972522532"
      ]
     },
     "execution_count": 28,
     "metadata": {},
     "output_type": "execute_result"
    }
   ],
   "source": [
    "from scipy.optimize import curve_fit\n",
    "def expFn(x, a, b):\n",
    "    return a * np.exp(b * -x)\n",
    "\n",
    "# We see only the latter half of the data\n",
    "ydata = np.mean(denseOut, axis=1)[26:]\n",
    "xdata = np.arange(0,174)\n",
    "\n",
    "popt, pcov = curve_fit(expFn, xdata, ydata)\n",
    "D_pred = mu/popt[1]**2\n",
    "D_pred"
   ]
  },
  {
   "cell_type": "code",
   "execution_count": 29,
   "metadata": {},
   "outputs": [
    {
     "data": {
      "text/plain": [
       "30"
      ]
     },
     "execution_count": 29,
     "metadata": {},
     "output_type": "execute_result"
    }
   ],
   "source": [
    "Decay_Time"
   ]
  },
  {
   "cell_type": "code",
   "execution_count": null,
   "metadata": {},
   "outputs": [],
   "source": []
  }
 ],
 "metadata": {
  "kernelspec": {
   "display_name": "Python 3",
   "language": "python",
   "name": "python3"
  },
  "language_info": {
   "codemirror_mode": {
    "name": "ipython",
    "version": 3
   },
   "file_extension": ".py",
   "mimetype": "text/x-python",
   "name": "python",
   "nbconvert_exporter": "python",
   "pygments_lexer": "ipython3",
   "version": "3.8.8"
  }
 },
 "nbformat": 4,
 "nbformat_minor": 2
}
